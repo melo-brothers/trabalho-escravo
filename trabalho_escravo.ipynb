{
 "cells": [
  {
   "cell_type": "code",
   "execution_count": 1,
   "id": "87bf9211",
   "metadata": {},
   "outputs": [],
   "source": [
    "import pandas as pd\n",
    "from datetime import date, datetime\n",
    "import httpx"
   ]
  },
  {
   "cell_type": "markdown",
   "id": "40a510f8",
   "metadata": {},
   "source": [
    "### Variáveis do projeto"
   ]
  },
  {
   "cell_type": "code",
   "execution_count": 2,
   "id": "c9a4d2a4",
   "metadata": {},
   "outputs": [],
   "source": [
    "arquivo = \"./arquivos/cadastro_de_empregadores-atualizacao-extraord-09-mar-2023.xlsx\""
   ]
  },
  {
   "cell_type": "code",
   "execution_count": 3,
   "id": "e13ff8ce",
   "metadata": {},
   "outputs": [],
   "source": [
    "columns = [\n",
    "    \"id\",\n",
    "    \"ano_acao_fiscal\",\n",
    "    \"uf\",\n",
    "    \"empregador\",\n",
    "    \"cpf_cpnj\",\n",
    "    \"estabelecimento\",\n",
    "    \"trabalhadores_envolvidos\",\n",
    "    \"cnae\",\n",
    "    \"data_decisao_administrativa\",\n",
    "    \"data_inclusao_cadastro\",\n",
    "]"
   ]
  },
  {
   "cell_type": "markdown",
   "id": "aa1d4be8",
   "metadata": {},
   "source": [
    "# Funções auxiliares"
   ]
  },
  {
   "cell_type": "code",
   "execution_count": 4,
   "id": "e0929889",
   "metadata": {},
   "outputs": [],
   "source": [
    "def tratamento_de_datas(data):\n",
    "    if isinstance(data, datetime):\n",
    "        return data.date()\n",
    "    _data = data.replace(\".\",\"\").split(\" \")\n",
    "\n",
    "    for d in reversed(_data):\n",
    "        try:\n",
    "            d = d.split(\"/\")\n",
    "            return date(day=int(d[0]), month=int(d[1]), year=int(d[2]))\n",
    "        except Exception:\n",
    "            ..."
   ]
  },
  {
   "cell_type": "markdown",
   "id": "10203aed",
   "metadata": {},
   "source": [
    "### Tratamento do DataFrame"
   ]
  },
  {
   "cell_type": "code",
   "execution_count": 5,
   "id": "64c55541",
   "metadata": {
    "scrolled": true
   },
   "outputs": [],
   "source": [
    "# Ler o arquivo\n",
    "# Dica para não converter colunas automaticamente: https://stackoverflow.com/questions/59258431/how-can-i-stop-pandas-from-automatically-converting-my-date-format\n",
    "# Dica para nomear colunas: https://stackoverflow.com/questions/17335649/how-to-specify-column-names-while-reading-an-excel-file-using-pandas\n",
    "df = pd.read_excel(arquivo)"
   ]
  },
  {
   "cell_type": "code",
   "execution_count": 6,
   "id": "50c12047",
   "metadata": {},
   "outputs": [],
   "source": [
    "# Altera o nome das colunas\n",
    "df.columns = columns"
   ]
  },
  {
   "cell_type": "code",
   "execution_count": 7,
   "id": "494ffcc7",
   "metadata": {},
   "outputs": [],
   "source": [
    "# Procura e preenche a data_do_arquivo\n",
    "for l in df.id:\n",
    "    try:\n",
    "        data_do_arquivo = tratamento_de_datas(l)\n",
    "    except Exception:\n",
    "        ...\n",
    "    else:\n",
    "        break"
   ]
  },
  {
   "cell_type": "code",
   "execution_count": 8,
   "id": "3ddd7b86",
   "metadata": {},
   "outputs": [
    {
     "data": {
      "text/plain": [
       "datetime.date(2023, 3, 9)"
      ]
     },
     "execution_count": 8,
     "metadata": {},
     "output_type": "execute_result"
    }
   ],
   "source": [
    "data_do_arquivo"
   ]
  },
  {
   "cell_type": "code",
   "execution_count": 9,
   "id": "862a4eac",
   "metadata": {},
   "outputs": [],
   "source": [
    "# Elimina os registros vazios\n",
    "# TODO: Melhorar a exclusão da lista\n",
    "df.dropna(inplace=True)"
   ]
  },
  {
   "cell_type": "code",
   "execution_count": 10,
   "id": "a87fc494",
   "metadata": {},
   "outputs": [],
   "source": [
    "# Resetar os índices\n",
    "df.reset_index(drop=True, inplace=True)"
   ]
  },
  {
   "cell_type": "code",
   "execution_count": 11,
   "id": "e5b35fd5",
   "metadata": {},
   "outputs": [],
   "source": [
    "# Elimina o cabeçalho do arquivo\n",
    "df.drop(0, inplace=True)"
   ]
  },
  {
   "cell_type": "code",
   "execution_count": 12,
   "id": "14d9ef3b",
   "metadata": {},
   "outputs": [],
   "source": [
    "# Tratamento de datas\n",
    "df.data_decisao_administrativa = df.data_decisao_administrativa.apply(tratamento_de_datas)\n",
    "\n",
    "# TODO: Não sobrescrever a coluna data_inclusao_cadastro para não perder as demais datas\n",
    "df.data_inclusao_cadastro = df.data_inclusao_cadastro.apply(tratamento_de_datas)"
   ]
  },
  {
   "cell_type": "code",
   "execution_count": 13,
   "id": "eb0d73b5",
   "metadata": {},
   "outputs": [],
   "source": [
    "# Cria a data do arquivo\n",
    "df[\"data_arquivo\"] = data_do_arquivo"
   ]
  },
  {
   "cell_type": "code",
   "execution_count": 14,
   "id": "a6eba654",
   "metadata": {},
   "outputs": [],
   "source": [
    "# Cria a data da carga\n",
    "df[\"data_carga\"] = date.today()"
   ]
  },
  {
   "cell_type": "markdown",
   "id": "f3e40149",
   "metadata": {},
   "source": [
    "# Próximos passos"
   ]
  },
  {
   "cell_type": "code",
   "execution_count": 16,
   "id": "4a30ee20",
   "metadata": {},
   "outputs": [],
   "source": [
    "# Faz o request na página -> https://www.gov.br/trabalho-e-previdencia/pt-br/composicao/orgaos-especificos/secretaria-de-trabalho/inspecao/areas-de-atuacao/combate-ao-trabalho-escravo-e-analogo-ao-de-escravo\n",
    "# Encontro o arquivo XLSX\n",
    "# Baixo o arquivo XLSX\n",
    "# Comparo o arquivo baixado com o único arquivo na pasta arquivos. Se o arquivo for igual (HASH), interrompe. Se o arquivo for diferente, continua o processamento\n",
    "# Move o arquivo que já estava na pasta \"arquivos\" para \"processados\"\n",
    "# Salva o novo arquivo na pasta arquivos\n",
    "# Schedular a execução (Rocketry)\n",
    "# Logging\n",
    "\n",
    "\n",
    "# TODO: Criar função para capturar e comparar o arquivo\n",
    "arquivo = httpx.get('https://www.gov.br/trabalho-e-previdencia/pt-br/composicao/orgaos-especificos/secretaria-de-trabalho/inspecao/areas-de-atuacao/cadastro_de_empregadores-atualizacao-extraord-09-mar-2023.xlsx')\n",
    "with open(\"./arquivos/cadastro_de_empregadores-atualizacao-extraord-09-mar-2023-baixado.xlsx\", \"wb\") as f:\n",
    "    f.write(arquivo.content)"
   ]
  },
  {
   "cell_type": "code",
   "execution_count": 17,
   "id": "7bb22e0d",
   "metadata": {},
   "outputs": [
    {
     "data": {
      "text/html": [
       "<div>\n",
       "<style scoped>\n",
       "    .dataframe tbody tr th:only-of-type {\n",
       "        vertical-align: middle;\n",
       "    }\n",
       "\n",
       "    .dataframe tbody tr th {\n",
       "        vertical-align: top;\n",
       "    }\n",
       "\n",
       "    .dataframe thead th {\n",
       "        text-align: right;\n",
       "    }\n",
       "</style>\n",
       "<table border=\"1\" class=\"dataframe\">\n",
       "  <thead>\n",
       "    <tr style=\"text-align: right;\">\n",
       "      <th></th>\n",
       "      <th>id</th>\n",
       "      <th>ano_acao_fiscal</th>\n",
       "      <th>uf</th>\n",
       "      <th>empregador</th>\n",
       "      <th>cpf_cpnj</th>\n",
       "      <th>estabelecimento</th>\n",
       "      <th>trabalhadores_envolvidos</th>\n",
       "      <th>cnae</th>\n",
       "      <th>data_decisao_administrativa</th>\n",
       "      <th>data_inclusao_cadastro</th>\n",
       "      <th>data_arquivo</th>\n",
       "      <th>data_carga</th>\n",
       "    </tr>\n",
       "  </thead>\n",
       "  <tbody>\n",
       "    <tr>\n",
       "      <th>1</th>\n",
       "      <td>1</td>\n",
       "      <td>2020</td>\n",
       "      <td>PI</td>\n",
       "      <td>A. de C. Borges</td>\n",
       "      <td>27.090.456/0002-27</td>\n",
       "      <td>Cerâmica J.A, Rodovia PI, sentido de Barras a ...</td>\n",
       "      <td>9</td>\n",
       "      <td>2341-9/00</td>\n",
       "      <td>2021-12-09</td>\n",
       "      <td>2022-10-05</td>\n",
       "      <td>2023-03-09</td>\n",
       "      <td>2023-04-01</td>\n",
       "    </tr>\n",
       "    <tr>\n",
       "      <th>2</th>\n",
       "      <td>2</td>\n",
       "      <td>2018</td>\n",
       "      <td>RN</td>\n",
       "      <td>Ademar Pelonha de Menezes Filho</td>\n",
       "      <td>057.293.644-31</td>\n",
       "      <td>Sítio Bela Vista I, s/n, zona rural, entre o d...</td>\n",
       "      <td>5</td>\n",
       "      <td>0220-9/99</td>\n",
       "      <td>2019-11-28</td>\n",
       "      <td>2022-10-05</td>\n",
       "      <td>2023-03-09</td>\n",
       "      <td>2023-04-01</td>\n",
       "    </tr>\n",
       "    <tr>\n",
       "      <th>3</th>\n",
       "      <td>3</td>\n",
       "      <td>2018</td>\n",
       "      <td>BA</td>\n",
       "      <td>Adilson Bona Vieira</td>\n",
       "      <td>088.062.627-50</td>\n",
       "      <td>Fazenda Dois Rios e Dois Rios I - Rodovia BA-2...</td>\n",
       "      <td>39</td>\n",
       "      <td>0134-2/00</td>\n",
       "      <td>2020-02-27</td>\n",
       "      <td>2021-04-05</td>\n",
       "      <td>2023-03-09</td>\n",
       "      <td>2023-04-01</td>\n",
       "    </tr>\n",
       "    <tr>\n",
       "      <th>4</th>\n",
       "      <td>4</td>\n",
       "      <td>2019</td>\n",
       "      <td>MT</td>\n",
       "      <td>Adilson Capanema de Freitas</td>\n",
       "      <td>389.732.001-00</td>\n",
       "      <td>Fazenda Sonho do Mineiro, Gleba Cruzeiro do Su...</td>\n",
       "      <td>2</td>\n",
       "      <td>0151-2/01</td>\n",
       "      <td>2021-12-13</td>\n",
       "      <td>2022-10-05</td>\n",
       "      <td>2023-03-09</td>\n",
       "      <td>2023-04-01</td>\n",
       "    </tr>\n",
       "    <tr>\n",
       "      <th>5</th>\n",
       "      <td>5</td>\n",
       "      <td>2019</td>\n",
       "      <td>SP</td>\n",
       "      <td>Agda Dias da Silva</td>\n",
       "      <td>521.267.221-04</td>\n",
       "      <td>Alojamento e pontos de prostituição de profiss...</td>\n",
       "      <td>12</td>\n",
       "      <td>9700-5/00</td>\n",
       "      <td>2022-05-23</td>\n",
       "      <td>2022-10-05</td>\n",
       "      <td>2023-03-09</td>\n",
       "      <td>2023-04-01</td>\n",
       "    </tr>\n",
       "    <tr>\n",
       "      <th>...</th>\n",
       "      <td>...</td>\n",
       "      <td>...</td>\n",
       "      <td>...</td>\n",
       "      <td>...</td>\n",
       "      <td>...</td>\n",
       "      <td>...</td>\n",
       "      <td>...</td>\n",
       "      <td>...</td>\n",
       "      <td>...</td>\n",
       "      <td>...</td>\n",
       "      <td>...</td>\n",
       "      <td>...</td>\n",
       "    </tr>\n",
       "    <tr>\n",
       "      <th>171</th>\n",
       "      <td>171</td>\n",
       "      <td>2019</td>\n",
       "      <td>MG</td>\n",
       "      <td>Wagner Antunes Sposito</td>\n",
       "      <td>512.585.606-15</td>\n",
       "      <td>Fazenda Tamboril-Jacaré, zona rural, Ninheira/MG</td>\n",
       "      <td>23</td>\n",
       "      <td>0210-1/08</td>\n",
       "      <td>2020-02-07</td>\n",
       "      <td>2021-12-23</td>\n",
       "      <td>2023-03-09</td>\n",
       "      <td>2023-04-01</td>\n",
       "    </tr>\n",
       "    <tr>\n",
       "      <th>172</th>\n",
       "      <td>172</td>\n",
       "      <td>2020</td>\n",
       "      <td>MG</td>\n",
       "      <td>Wagner Arthur Gonçalves dos Santos</td>\n",
       "      <td>062.012.016-96</td>\n",
       "      <td>Fazenda Mesas, zona rural, Campos Altos/MG</td>\n",
       "      <td>34</td>\n",
       "      <td>0134-2/00</td>\n",
       "      <td>2021-12-01</td>\n",
       "      <td>2022-04-05</td>\n",
       "      <td>2023-03-09</td>\n",
       "      <td>2023-04-01</td>\n",
       "    </tr>\n",
       "    <tr>\n",
       "      <th>173</th>\n",
       "      <td>173</td>\n",
       "      <td>2019</td>\n",
       "      <td>RN</td>\n",
       "      <td>Waldir Luduvino Costa</td>\n",
       "      <td>495.920.844-91</td>\n",
       "      <td>Carnaubal, zona rural, Carnaubais/RN</td>\n",
       "      <td>4</td>\n",
       "      <td>2209-9/99</td>\n",
       "      <td>2021-09-13</td>\n",
       "      <td>2022-04-05</td>\n",
       "      <td>2023-03-09</td>\n",
       "      <td>2023-04-01</td>\n",
       "    </tr>\n",
       "    <tr>\n",
       "      <th>174</th>\n",
       "      <td>174</td>\n",
       "      <td>2019</td>\n",
       "      <td>RS</td>\n",
       "      <td>Wilson Luiz Vanni</td>\n",
       "      <td>056.471.500-04</td>\n",
       "      <td>Propriedade Rural, Linha Julieta S/N, zona rur...</td>\n",
       "      <td>1</td>\n",
       "      <td>1334-9/99</td>\n",
       "      <td>2021-04-12</td>\n",
       "      <td>2021-10-05</td>\n",
       "      <td>2023-03-09</td>\n",
       "      <td>2023-04-01</td>\n",
       "    </tr>\n",
       "    <tr>\n",
       "      <th>175</th>\n",
       "      <td>1</td>\n",
       "      <td>2018</td>\n",
       "      <td>MG</td>\n",
       "      <td>Gilson Gonçalves Valadares</td>\n",
       "      <td>627.599.226-34</td>\n",
       "      <td>Fazenda Tanques, zona rural, São Gonçalo do Ab...</td>\n",
       "      <td>2</td>\n",
       "      <td>0220-9/02</td>\n",
       "      <td>2020-01-10</td>\n",
       "      <td>2022-02-11</td>\n",
       "      <td>2023-03-09</td>\n",
       "      <td>2023-04-01</td>\n",
       "    </tr>\n",
       "  </tbody>\n",
       "</table>\n",
       "<p>175 rows × 12 columns</p>\n",
       "</div>"
      ],
      "text/plain": [
       "      id ano_acao_fiscal  uf                          empregador  \\\n",
       "1      1            2020  PI                     A. de C. Borges   \n",
       "2      2            2018  RN     Ademar Pelonha de Menezes Filho   \n",
       "3      3            2018  BA                 Adilson Bona Vieira   \n",
       "4      4            2019  MT         Adilson Capanema de Freitas   \n",
       "5      5            2019  SP                  Agda Dias da Silva   \n",
       "..   ...             ...  ..                                 ...   \n",
       "171  171            2019  MG              Wagner Antunes Sposito   \n",
       "172  172            2020  MG  Wagner Arthur Gonçalves dos Santos   \n",
       "173  173            2019  RN               Waldir Luduvino Costa   \n",
       "174  174            2019  RS                   Wilson Luiz Vanni   \n",
       "175    1            2018  MG          Gilson Gonçalves Valadares   \n",
       "\n",
       "               cpf_cpnj                                    estabelecimento  \\\n",
       "1    27.090.456/0002-27  Cerâmica J.A, Rodovia PI, sentido de Barras a ...   \n",
       "2        057.293.644-31  Sítio Bela Vista I, s/n, zona rural, entre o d...   \n",
       "3        088.062.627-50  Fazenda Dois Rios e Dois Rios I - Rodovia BA-2...   \n",
       "4        389.732.001-00  Fazenda Sonho do Mineiro, Gleba Cruzeiro do Su...   \n",
       "5        521.267.221-04  Alojamento e pontos de prostituição de profiss...   \n",
       "..                  ...                                                ...   \n",
       "171      512.585.606-15   Fazenda Tamboril-Jacaré, zona rural, Ninheira/MG   \n",
       "172      062.012.016-96         Fazenda Mesas, zona rural, Campos Altos/MG   \n",
       "173      495.920.844-91               Carnaubal, zona rural, Carnaubais/RN   \n",
       "174      056.471.500-04  Propriedade Rural, Linha Julieta S/N, zona rur...   \n",
       "175      627.599.226-34  Fazenda Tanques, zona rural, São Gonçalo do Ab...   \n",
       "\n",
       "    trabalhadores_envolvidos       cnae data_decisao_administrativa  \\\n",
       "1                          9  2341-9/00                  2021-12-09   \n",
       "2                          5  0220-9/99                  2019-11-28   \n",
       "3                         39  0134-2/00                  2020-02-27   \n",
       "4                          2  0151-2/01                  2021-12-13   \n",
       "5                         12  9700-5/00                  2022-05-23   \n",
       "..                       ...        ...                         ...   \n",
       "171                       23  0210-1/08                  2020-02-07   \n",
       "172                       34  0134-2/00                  2021-12-01   \n",
       "173                        4  2209-9/99                  2021-09-13   \n",
       "174                        1  1334-9/99                  2021-04-12   \n",
       "175                        2  0220-9/02                  2020-01-10   \n",
       "\n",
       "    data_inclusao_cadastro data_arquivo  data_carga  \n",
       "1               2022-10-05   2023-03-09  2023-04-01  \n",
       "2               2022-10-05   2023-03-09  2023-04-01  \n",
       "3               2021-04-05   2023-03-09  2023-04-01  \n",
       "4               2022-10-05   2023-03-09  2023-04-01  \n",
       "5               2022-10-05   2023-03-09  2023-04-01  \n",
       "..                     ...          ...         ...  \n",
       "171             2021-12-23   2023-03-09  2023-04-01  \n",
       "172             2022-04-05   2023-03-09  2023-04-01  \n",
       "173             2022-04-05   2023-03-09  2023-04-01  \n",
       "174             2021-10-05   2023-03-09  2023-04-01  \n",
       "175             2022-02-11   2023-03-09  2023-04-01  \n",
       "\n",
       "[175 rows x 12 columns]"
      ]
     },
     "execution_count": 17,
     "metadata": {},
     "output_type": "execute_result"
    }
   ],
   "source": [
    "df"
   ]
  },
  {
   "cell_type": "code",
   "execution_count": null,
   "id": "bcd20c9a",
   "metadata": {},
   "outputs": [],
   "source": []
  }
 ],
 "metadata": {
  "kernelspec": {
   "display_name": "Python 3 (ipykernel)",
   "language": "python",
   "name": "python3"
  },
  "language_info": {
   "codemirror_mode": {
    "name": "ipython",
    "version": 3
   },
   "file_extension": ".py",
   "mimetype": "text/x-python",
   "name": "python",
   "nbconvert_exporter": "python",
   "pygments_lexer": "ipython3",
   "version": "3.11.2"
  }
 },
 "nbformat": 4,
 "nbformat_minor": 5
}
