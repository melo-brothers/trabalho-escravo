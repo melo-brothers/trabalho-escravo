{
 "cells": [
  {
   "cell_type": "code",
   "execution_count": 1,
   "id": "87bf9211",
   "metadata": {},
   "outputs": [],
   "source": [
    "import pandas as pd\n",
    "from datetime import date, datetime\n",
    "import httpx"
   ]
  },
  {
   "cell_type": "markdown",
   "id": "40a510f8",
   "metadata": {},
   "source": [
    "### Variáveis do projeto"
   ]
  },
  {
   "cell_type": "code",
   "execution_count": 3,
   "id": "e13ff8ce",
   "metadata": {},
   "outputs": [],
   "source": [
    "columns = [\n",
    "    \"id\",\n",
    "    \"ano_acao_fiscal\",\n",
    "    \"uf\",\n",
    "    \"empregador\",\n",
    "    \"cpf_cpnj\",\n",
    "    \"estabelecimento\",\n",
    "    \"trabalhadores_envolvidos\",\n",
    "    \"cnae\",\n",
    "    \"data_decisao_administrativa\",\n",
    "    \"data_inclusao_cadastro\",\n",
    "]"
   ]
  },
  {
   "cell_type": "markdown",
   "id": "aa1d4be8",
   "metadata": {},
   "source": [
    "# Funções auxiliares"
   ]
  },
  {
   "cell_type": "code",
   "execution_count": 4,
   "id": "e0929889",
   "metadata": {},
   "outputs": [],
   "source": [
    "def tratamento_de_datas(data):\n",
    "    if isinstance(data, datetime):\n",
    "        return data.date()\n",
    "    _data = data.replace(\".\",\"\").split(\" \")\n",
    "\n",
    "    for d in reversed(_data):\n",
    "        try:\n",
    "            d = d.split(\"/\")\n",
    "            return date(day=int(d[0]), month=int(d[1]), year=int(d[2]))\n",
    "        except Exception:\n",
    "            ..."
   ]
  },
  {
   "cell_type": "markdown",
   "id": "10203aed",
   "metadata": {},
   "source": [
    "### Tratamento do DataFrame"
   ]
  },
  {
   "cell_type": "code",
   "execution_count": 5,
   "id": "64c55541",
   "metadata": {
    "scrolled": true
   },
   "outputs": [
    {
     "ename": "FileNotFoundError",
     "evalue": "[Errno 2] No such file or directory: './arquivos/cadastro_de_empregadores-atualizacao-extraord-09-mar-2023.xlsx'",
     "output_type": "error",
     "traceback": [
      "\u001b[0;31m---------------------------------------------------------------------------\u001b[0m",
      "\u001b[0;31mFileNotFoundError\u001b[0m                         Traceback (most recent call last)",
      "Cell \u001b[0;32mIn[5], line 4\u001b[0m\n\u001b[1;32m      1\u001b[0m \u001b[38;5;66;03m# Ler o arquivo\u001b[39;00m\n\u001b[1;32m      2\u001b[0m \u001b[38;5;66;03m# Dica para não converter colunas automaticamente: https://stackoverflow.com/questions/59258431/how-can-i-stop-pandas-from-automatically-converting-my-date-format\u001b[39;00m\n\u001b[1;32m      3\u001b[0m \u001b[38;5;66;03m# Dica para nomear colunas: https://stackoverflow.com/questions/17335649/how-to-specify-column-names-while-reading-an-excel-file-using-pandas\u001b[39;00m\n\u001b[0;32m----> 4\u001b[0m df \u001b[38;5;241m=\u001b[39m \u001b[43mpd\u001b[49m\u001b[38;5;241;43m.\u001b[39;49m\u001b[43mread_excel\u001b[49m\u001b[43m(\u001b[49m\u001b[43marquivo\u001b[49m\u001b[43m)\u001b[49m\n",
      "File \u001b[0;32m~/.pyenv/versions/3.11.2/envs/trabalhoEscravo/lib/python3.11/site-packages/pandas/util/_decorators.py:211\u001b[0m, in \u001b[0;36mdeprecate_kwarg.<locals>._deprecate_kwarg.<locals>.wrapper\u001b[0;34m(*args, **kwargs)\u001b[0m\n\u001b[1;32m    209\u001b[0m     \u001b[38;5;28;01melse\u001b[39;00m:\n\u001b[1;32m    210\u001b[0m         kwargs[new_arg_name] \u001b[38;5;241m=\u001b[39m new_arg_value\n\u001b[0;32m--> 211\u001b[0m \u001b[38;5;28;01mreturn\u001b[39;00m \u001b[43mfunc\u001b[49m\u001b[43m(\u001b[49m\u001b[38;5;241;43m*\u001b[39;49m\u001b[43margs\u001b[49m\u001b[43m,\u001b[49m\u001b[43m \u001b[49m\u001b[38;5;241;43m*\u001b[39;49m\u001b[38;5;241;43m*\u001b[39;49m\u001b[43mkwargs\u001b[49m\u001b[43m)\u001b[49m\n",
      "File \u001b[0;32m~/.pyenv/versions/3.11.2/envs/trabalhoEscravo/lib/python3.11/site-packages/pandas/util/_decorators.py:331\u001b[0m, in \u001b[0;36mdeprecate_nonkeyword_arguments.<locals>.decorate.<locals>.wrapper\u001b[0;34m(*args, **kwargs)\u001b[0m\n\u001b[1;32m    325\u001b[0m \u001b[38;5;28;01mif\u001b[39;00m \u001b[38;5;28mlen\u001b[39m(args) \u001b[38;5;241m>\u001b[39m num_allow_args:\n\u001b[1;32m    326\u001b[0m     warnings\u001b[38;5;241m.\u001b[39mwarn(\n\u001b[1;32m    327\u001b[0m         msg\u001b[38;5;241m.\u001b[39mformat(arguments\u001b[38;5;241m=\u001b[39m_format_argument_list(allow_args)),\n\u001b[1;32m    328\u001b[0m         \u001b[38;5;167;01mFutureWarning\u001b[39;00m,\n\u001b[1;32m    329\u001b[0m         stacklevel\u001b[38;5;241m=\u001b[39mfind_stack_level(),\n\u001b[1;32m    330\u001b[0m     )\n\u001b[0;32m--> 331\u001b[0m \u001b[38;5;28;01mreturn\u001b[39;00m \u001b[43mfunc\u001b[49m\u001b[43m(\u001b[49m\u001b[38;5;241;43m*\u001b[39;49m\u001b[43margs\u001b[49m\u001b[43m,\u001b[49m\u001b[43m \u001b[49m\u001b[38;5;241;43m*\u001b[39;49m\u001b[38;5;241;43m*\u001b[39;49m\u001b[43mkwargs\u001b[49m\u001b[43m)\u001b[49m\n",
      "File \u001b[0;32m~/.pyenv/versions/3.11.2/envs/trabalhoEscravo/lib/python3.11/site-packages/pandas/io/excel/_base.py:482\u001b[0m, in \u001b[0;36mread_excel\u001b[0;34m(io, sheet_name, header, names, index_col, usecols, squeeze, dtype, engine, converters, true_values, false_values, skiprows, nrows, na_values, keep_default_na, na_filter, verbose, parse_dates, date_parser, thousands, decimal, comment, skipfooter, convert_float, mangle_dupe_cols, storage_options)\u001b[0m\n\u001b[1;32m    480\u001b[0m \u001b[38;5;28;01mif\u001b[39;00m \u001b[38;5;129;01mnot\u001b[39;00m \u001b[38;5;28misinstance\u001b[39m(io, ExcelFile):\n\u001b[1;32m    481\u001b[0m     should_close \u001b[38;5;241m=\u001b[39m \u001b[38;5;28;01mTrue\u001b[39;00m\n\u001b[0;32m--> 482\u001b[0m     io \u001b[38;5;241m=\u001b[39m \u001b[43mExcelFile\u001b[49m\u001b[43m(\u001b[49m\u001b[43mio\u001b[49m\u001b[43m,\u001b[49m\u001b[43m \u001b[49m\u001b[43mstorage_options\u001b[49m\u001b[38;5;241;43m=\u001b[39;49m\u001b[43mstorage_options\u001b[49m\u001b[43m,\u001b[49m\u001b[43m \u001b[49m\u001b[43mengine\u001b[49m\u001b[38;5;241;43m=\u001b[39;49m\u001b[43mengine\u001b[49m\u001b[43m)\u001b[49m\n\u001b[1;32m    483\u001b[0m \u001b[38;5;28;01melif\u001b[39;00m engine \u001b[38;5;129;01mand\u001b[39;00m engine \u001b[38;5;241m!=\u001b[39m io\u001b[38;5;241m.\u001b[39mengine:\n\u001b[1;32m    484\u001b[0m     \u001b[38;5;28;01mraise\u001b[39;00m \u001b[38;5;167;01mValueError\u001b[39;00m(\n\u001b[1;32m    485\u001b[0m         \u001b[38;5;124m\"\u001b[39m\u001b[38;5;124mEngine should not be specified when passing \u001b[39m\u001b[38;5;124m\"\u001b[39m\n\u001b[1;32m    486\u001b[0m         \u001b[38;5;124m\"\u001b[39m\u001b[38;5;124man ExcelFile - ExcelFile already has the engine set\u001b[39m\u001b[38;5;124m\"\u001b[39m\n\u001b[1;32m    487\u001b[0m     )\n",
      "File \u001b[0;32m~/.pyenv/versions/3.11.2/envs/trabalhoEscravo/lib/python3.11/site-packages/pandas/io/excel/_base.py:1652\u001b[0m, in \u001b[0;36mExcelFile.__init__\u001b[0;34m(self, path_or_buffer, engine, storage_options)\u001b[0m\n\u001b[1;32m   1650\u001b[0m     ext \u001b[38;5;241m=\u001b[39m \u001b[38;5;124m\"\u001b[39m\u001b[38;5;124mxls\u001b[39m\u001b[38;5;124m\"\u001b[39m\n\u001b[1;32m   1651\u001b[0m \u001b[38;5;28;01melse\u001b[39;00m:\n\u001b[0;32m-> 1652\u001b[0m     ext \u001b[38;5;241m=\u001b[39m \u001b[43minspect_excel_format\u001b[49m\u001b[43m(\u001b[49m\n\u001b[1;32m   1653\u001b[0m \u001b[43m        \u001b[49m\u001b[43mcontent_or_path\u001b[49m\u001b[38;5;241;43m=\u001b[39;49m\u001b[43mpath_or_buffer\u001b[49m\u001b[43m,\u001b[49m\u001b[43m \u001b[49m\u001b[43mstorage_options\u001b[49m\u001b[38;5;241;43m=\u001b[39;49m\u001b[43mstorage_options\u001b[49m\n\u001b[1;32m   1654\u001b[0m \u001b[43m    \u001b[49m\u001b[43m)\u001b[49m\n\u001b[1;32m   1655\u001b[0m     \u001b[38;5;28;01mif\u001b[39;00m ext \u001b[38;5;129;01mis\u001b[39;00m \u001b[38;5;28;01mNone\u001b[39;00m:\n\u001b[1;32m   1656\u001b[0m         \u001b[38;5;28;01mraise\u001b[39;00m \u001b[38;5;167;01mValueError\u001b[39;00m(\n\u001b[1;32m   1657\u001b[0m             \u001b[38;5;124m\"\u001b[39m\u001b[38;5;124mExcel file format cannot be determined, you must specify \u001b[39m\u001b[38;5;124m\"\u001b[39m\n\u001b[1;32m   1658\u001b[0m             \u001b[38;5;124m\"\u001b[39m\u001b[38;5;124man engine manually.\u001b[39m\u001b[38;5;124m\"\u001b[39m\n\u001b[1;32m   1659\u001b[0m         )\n",
      "File \u001b[0;32m~/.pyenv/versions/3.11.2/envs/trabalhoEscravo/lib/python3.11/site-packages/pandas/io/excel/_base.py:1525\u001b[0m, in \u001b[0;36minspect_excel_format\u001b[0;34m(content_or_path, storage_options)\u001b[0m\n\u001b[1;32m   1522\u001b[0m \u001b[38;5;28;01mif\u001b[39;00m \u001b[38;5;28misinstance\u001b[39m(content_or_path, \u001b[38;5;28mbytes\u001b[39m):\n\u001b[1;32m   1523\u001b[0m     content_or_path \u001b[38;5;241m=\u001b[39m BytesIO(content_or_path)\n\u001b[0;32m-> 1525\u001b[0m \u001b[38;5;28;01mwith\u001b[39;00m \u001b[43mget_handle\u001b[49m\u001b[43m(\u001b[49m\n\u001b[1;32m   1526\u001b[0m \u001b[43m    \u001b[49m\u001b[43mcontent_or_path\u001b[49m\u001b[43m,\u001b[49m\u001b[43m \u001b[49m\u001b[38;5;124;43m\"\u001b[39;49m\u001b[38;5;124;43mrb\u001b[39;49m\u001b[38;5;124;43m\"\u001b[39;49m\u001b[43m,\u001b[49m\u001b[43m \u001b[49m\u001b[43mstorage_options\u001b[49m\u001b[38;5;241;43m=\u001b[39;49m\u001b[43mstorage_options\u001b[49m\u001b[43m,\u001b[49m\u001b[43m \u001b[49m\u001b[43mis_text\u001b[49m\u001b[38;5;241;43m=\u001b[39;49m\u001b[38;5;28;43;01mFalse\u001b[39;49;00m\n\u001b[1;32m   1527\u001b[0m \u001b[43m\u001b[49m\u001b[43m)\u001b[49m \u001b[38;5;28;01mas\u001b[39;00m handle:\n\u001b[1;32m   1528\u001b[0m     stream \u001b[38;5;241m=\u001b[39m handle\u001b[38;5;241m.\u001b[39mhandle\n\u001b[1;32m   1529\u001b[0m     stream\u001b[38;5;241m.\u001b[39mseek(\u001b[38;5;241m0\u001b[39m)\n",
      "File \u001b[0;32m~/.pyenv/versions/3.11.2/envs/trabalhoEscravo/lib/python3.11/site-packages/pandas/io/common.py:865\u001b[0m, in \u001b[0;36mget_handle\u001b[0;34m(path_or_buf, mode, encoding, compression, memory_map, is_text, errors, storage_options)\u001b[0m\n\u001b[1;32m    856\u001b[0m         handle \u001b[38;5;241m=\u001b[39m \u001b[38;5;28mopen\u001b[39m(\n\u001b[1;32m    857\u001b[0m             handle,\n\u001b[1;32m    858\u001b[0m             ioargs\u001b[38;5;241m.\u001b[39mmode,\n\u001b[0;32m   (...)\u001b[0m\n\u001b[1;32m    861\u001b[0m             newline\u001b[38;5;241m=\u001b[39m\u001b[38;5;124m\"\u001b[39m\u001b[38;5;124m\"\u001b[39m,\n\u001b[1;32m    862\u001b[0m         )\n\u001b[1;32m    863\u001b[0m     \u001b[38;5;28;01melse\u001b[39;00m:\n\u001b[1;32m    864\u001b[0m         \u001b[38;5;66;03m# Binary mode\u001b[39;00m\n\u001b[0;32m--> 865\u001b[0m         handle \u001b[38;5;241m=\u001b[39m \u001b[38;5;28;43mopen\u001b[39;49m\u001b[43m(\u001b[49m\u001b[43mhandle\u001b[49m\u001b[43m,\u001b[49m\u001b[43m \u001b[49m\u001b[43mioargs\u001b[49m\u001b[38;5;241;43m.\u001b[39;49m\u001b[43mmode\u001b[49m\u001b[43m)\u001b[49m\n\u001b[1;32m    866\u001b[0m     handles\u001b[38;5;241m.\u001b[39mappend(handle)\n\u001b[1;32m    868\u001b[0m \u001b[38;5;66;03m# Convert BytesIO or file objects passed with an encoding\u001b[39;00m\n",
      "\u001b[0;31mFileNotFoundError\u001b[0m: [Errno 2] No such file or directory: './arquivos/cadastro_de_empregadores-atualizacao-extraord-09-mar-2023.xlsx'"
     ]
    }
   ],
   "source": [
    "# Ler o arquivo\n",
    "# Dica para não converter colunas automaticamente: https://stackoverflow.com/questions/59258431/how-can-i-stop-pandas-from-automatically-converting-my-date-format\n",
    "# Dica para nomear colunas: https://stackoverflow.com/questions/17335649/how-to-specify-column-names-while-reading-an-excel-file-using-pandas\n",
    "df = pd.read_excel(arquivo)"
   ]
  },
  {
   "cell_type": "code",
   "execution_count": null,
   "id": "50c12047",
   "metadata": {},
   "outputs": [],
   "source": [
    "# Altera o nome das colunas\n",
    "df.columns = columns"
   ]
  },
  {
   "cell_type": "code",
   "execution_count": null,
   "id": "494ffcc7",
   "metadata": {},
   "outputs": [],
   "source": [
    "# Procura e preenche a data_do_arquivo\n",
    "for l in df.id:\n",
    "    try:\n",
    "        data_do_arquivo = tratamento_de_datas(l)\n",
    "    except Exception:\n",
    "        ...\n",
    "    else:\n",
    "        break"
   ]
  },
  {
   "cell_type": "code",
   "execution_count": null,
   "id": "3ddd7b86",
   "metadata": {},
   "outputs": [],
   "source": [
    "data_do_arquivo"
   ]
  },
  {
   "cell_type": "code",
   "execution_count": null,
   "id": "862a4eac",
   "metadata": {},
   "outputs": [],
   "source": [
    "# Elimina os registros vazios\n",
    "# TODO: Melhorar a exclusão da lista\n",
    "df.dropna(inplace=True)"
   ]
  },
  {
   "cell_type": "code",
   "execution_count": null,
   "id": "a87fc494",
   "metadata": {},
   "outputs": [],
   "source": [
    "# Resetar os índices\n",
    "df.reset_index(drop=True, inplace=True)"
   ]
  },
  {
   "cell_type": "code",
   "execution_count": null,
   "id": "e5b35fd5",
   "metadata": {},
   "outputs": [],
   "source": [
    "# Elimina o cabeçalho do arquivo\n",
    "df.drop(0, inplace=True)"
   ]
  },
  {
   "cell_type": "code",
   "execution_count": null,
   "id": "14d9ef3b",
   "metadata": {},
   "outputs": [],
   "source": [
    "# Tratamento de datas\n",
    "df.data_decisao_administrativa = df.data_decisao_administrativa.apply(tratamento_de_datas)\n",
    "\n",
    "# TODO: Não sobrescrever a coluna data_inclusao_cadastro para não perder as demais datas\n",
    "df.data_ultima_inclusao_cadastro = df.data_inclusao_cadastro.apply(tratamento_de_datas)"
   ]
  },
  {
   "cell_type": "code",
   "execution_count": null,
   "id": "eb0d73b5",
   "metadata": {},
   "outputs": [],
   "source": [
    "# Cria a data do arquivo\n",
    "df[\"data_arquivo\"] = data_do_arquivo"
   ]
  },
  {
   "cell_type": "code",
   "execution_count": null,
   "id": "a6eba654",
   "metadata": {},
   "outputs": [],
   "source": [
    "# Cria a data da carga\n",
    "df[\"data_carga\"] = date.today()"
   ]
  },
  {
   "cell_type": "markdown",
   "id": "f3e40149",
   "metadata": {},
   "source": [
    "# Próximos passos"
   ]
  },
  {
   "cell_type": "code",
   "execution_count": null,
   "id": "4a30ee20",
   "metadata": {},
   "outputs": [],
   "source": [
    "# Faz o request na página -> https://www.gov.br/trabalho-e-previdencia/pt-br/composicao/orgaos-especificos/secretaria-de-trabalho/inspecao/areas-de-atuacao/combate-ao-trabalho-escravo-e-analogo-ao-de-escravo\n",
    "# Encontro o arquivo XLSX\n",
    "# Baixo o arquivo XLSX\n",
    "# Comparo o arquivo baixado com o único arquivo na pasta arquivos. Se o arquivo for igual (HASH), interrompe. Se o arquivo for diferente, continua o processamento\n",
    "# Move o arquivo que já estava na pasta \"arquivos\" para \"processados\"\n",
    "# Salva o novo arquivo na pasta arquivos\n",
    "# Schedular a execução (Rocketry)\n",
    "# Logging\n",
    "\n",
    "\n",
    "# TODO: Criar função para capturar e comparar o arquivo\n",
    "arquivo = httpx.get('https://www.gov.br/trabalho-e-previdencia/pt-br/composicao/orgaos-especificos/secretaria-de-trabalho/inspecao/areas-de-atuacao/cadastro_de_empregadores-atualizacao-extraord-09-mar-2023.xlsx')\n",
    "with open(\"./arquivos/cadastro_de_empregadores-atualizacao-extraord-09-mar-2023-baixado.xlsx\", \"wb\") as f:\n",
    "    f.write(arquivo.content)"
   ]
  },
  {
   "cell_type": "code",
   "execution_count": null,
   "id": "7bb22e0d",
   "metadata": {},
   "outputs": [],
   "source": [
    "df"
   ]
  },
  {
   "cell_type": "code",
   "execution_count": 10,
   "id": "4b0c50cc",
   "metadata": {},
   "outputs": [],
   "source": [
    "def procura_data_no_arquivo():\n",
    "    # Procura e preenche a data_do_arquivo\n",
    "    for l in df.id:\n",
    "        try:\n",
    "            data_do_arquivo = tratamento_de_datas(l)\n",
    "        except Exception:\n",
    "            ...\n",
    "        else:\n",
    "            return data_do_arquivo"
   ]
  },
  {
   "cell_type": "code",
   "execution_count": 8,
   "id": "f8343495",
   "metadata": {},
   "outputs": [],
   "source": [
    "def altera_colunas(df):\n",
    "    columns = [\n",
    "    \"id\",\n",
    "    \"ano_acao_fiscal\",\n",
    "    \"uf\",\n",
    "    \"empregador\",\n",
    "    \"cpf_cpnj\",\n",
    "    \"estabelecimento\",\n",
    "    \"trabalhadores_envolvidos\",\n",
    "    \"cnae\",\n",
    "    \"data_decisao_administrativa\",\n",
    "    \"data_inclusao_cadastro\",\n",
    "]\n",
    "    df.columns = columns"
   ]
  },
  {
   "cell_type": "code",
   "execution_count": 11,
   "id": "54584dfe",
   "metadata": {},
   "outputs": [],
   "source": []
  },
  {
   "cell_type": "code",
   "execution_count": null,
   "id": "bcd20c9a",
   "metadata": {},
   "outputs": [],
   "source": []
  }
 ],
 "metadata": {
  "kernelspec": {
   "display_name": "Python 3 (ipykernel)",
   "language": "python",
   "name": "python3"
  },
  "language_info": {
   "codemirror_mode": {
    "name": "ipython",
    "version": 3
   },
   "file_extension": ".py",
   "mimetype": "text/x-python",
   "name": "python",
   "nbconvert_exporter": "python",
   "pygments_lexer": "ipython3",
   "version": "3.11.2"
  }
 },
 "nbformat": 4,
 "nbformat_minor": 5
}
