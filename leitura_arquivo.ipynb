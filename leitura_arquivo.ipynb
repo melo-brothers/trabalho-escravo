{
 "cells": [
  {
   "cell_type": "code",
   "execution_count": null,
   "id": "9a498aed",
   "metadata": {},
   "outputs": [],
   "source": [
    "# Faz o request na página -> https://www.gov.br/trabalho-e-previdencia/pt-br/composicao/orgaos-especificos/secretaria-de-trabalho/inspecao/areas-de-atuacao/combate-ao-trabalho-escravo-e-analogo-ao-de-escravo\n",
    "# Encontro o arquivo XLSX\n",
    "# Baixo o arquivo XLSX\n",
    "# Comparo o arquivo baixado com o único arquivo na pasta arquivos. Se o arquivo for igual (HASH), interrompe. Se o arquivo for diferente, continua o processamento\n",
    "# Move o arquivo que já estava na pasta \"arquivos\" para \"processados\"\n",
    "# Salva o novo arquivo na pasta arquivos\n",
    "# Schedular a execução (Rocketry)\n",
    "# Logging"
   ]
  },
  {
   "cell_type": "code",
   "execution_count": null,
   "id": "93f7c37d",
   "metadata": {},
   "outputs": [],
   "source": [
    "import httpx\n",
    "import re\n",
    "from datetime import date\n",
    "import os\n",
    "import hashlib\n",
    "from processamento import tratar_arquivo"
   ]
  },
  {
   "cell_type": "code",
   "execution_count": null,
   "id": "3c4dbfaa",
   "metadata": {},
   "outputs": [],
   "source": [
    "PAGINA_GOV = \"https://www.gov.br/trabalho-e-previdencia/pt-br/composicao/orgaos-especificos/secretaria-de-trabalho/inspecao/areas-de-atuacao/combate-ao-trabalho-escravo-e-analogo-ao-de-escravo\"\n",
    "PADRAO = 'https://www.gov.br/trabalho-e-previdencia/pt-br/composicao/orgaos-especificos/secretaria-de-trabalho/inspecao/areas-de-atuacao/.*xlsx\"'"
   ]
  },
  {
   "cell_type": "code",
   "execution_count": null,
   "id": "5302af59",
   "metadata": {},
   "outputs": [],
   "source": [
    "def compare_files(arq1, arq2):\n",
    "\thash_1 = hashlib.new('ripemd160')\n",
    "\thash_1.update(open(arq1, 'rb').read())\n",
    "\thash_2 = hashlib.new('ripemd160')\n",
    "\thash_2.update(arq2)\n",
    "\t\n",
    "\treturn hash_1.digest() == hash_2.digest()"
   ]
  },
  {
   "cell_type": "code",
   "execution_count": null,
   "id": "e7ebc0df",
   "metadata": {},
   "outputs": [],
   "source": [
    "def encontra_link_planilha(padrao, pagina):\n",
    "    match = re.search(pattern, pagina.text)\n",
    "    result = match.group(0)[:-1]\n",
    "    nome_temporario = result.split(\"/\")[-1]\n",
    "    return result, nome_temporario"
   ]
  },
  {
   "cell_type": "code",
   "execution_count": null,
   "id": "7f576696",
   "metadata": {},
   "outputs": [],
   "source": [
    "# Carrega a página de trabalho escravo\n",
    "pagina = httpx.get(PAGINA_GOV)\n",
    "url_arquivo, nome_arquivo = encontra_link_planilha(PADRAO, pagina)"
   ]
  },
  {
   "cell_type": "code",
   "execution_count": null,
   "id": "3278e29d",
   "metadata": {},
   "outputs": [],
   "source": [
    "for (_,_,files) in os.walk('./arquivos'):\n",
    "    print (files)\n",
    "    ultimo_arquivo = f'./arquivos/{files[0]}'\n",
    "    break\n",
    "    "
   ]
  },
  {
   "cell_type": "code",
   "execution_count": null,
   "id": "290bb7f5",
   "metadata": {},
   "outputs": [],
   "source": [
    "arquivo_temporario = httpx.get(result)\n",
    "r = compare_files(ultimo_arquivo, arquivo_temporario.content)\n",
    "r"
   ]
  },
  {
   "cell_type": "code",
   "execution_count": null,
   "id": "cce4f0fa",
   "metadata": {
    "scrolled": true
   },
   "outputs": [],
   "source": [
    "df = tratar_arquivo(url_arquivo)"
   ]
  },
  {
   "cell_type": "code",
   "execution_count": null,
   "id": "b61cbe59",
   "metadata": {},
   "outputs": [],
   "source": [
    "df"
   ]
  },
  {
   "cell_type": "code",
   "execution_count": null,
   "id": "30efd15f",
   "metadata": {},
   "outputs": [],
   "source": [
    "\n",
    "\n",
    "#with open(f\"./arquivos/{nome_temporario}\", \"wb\") as f:\n",
    "#    f.write(arquivo.content)"
   ]
  },
  {
   "cell_type": "code",
   "execution_count": null,
   "id": "b1bce309",
   "metadata": {},
   "outputs": [],
   "source": [
    "# True: Encerra o processamento\n"
   ]
  },
  {
   "cell_type": "code",
   "execution_count": null,
   "id": "a89d8a46",
   "metadata": {},
   "outputs": [],
   "source": [
    "\n",
    "with open(\"./arquivos/cadastro_de_empregadores-atualizacao-extraord-09-mar-2023-baixado.xlsx\", \"wb\") as f:\n",
    "    f.write(arquivo.content)"
   ]
  }
 ],
 "metadata": {
  "kernelspec": {
   "display_name": "Python 3 (ipykernel)",
   "language": "python",
   "name": "python3"
  },
  "language_info": {
   "codemirror_mode": {
    "name": "ipython",
    "version": 3
   },
   "file_extension": ".py",
   "mimetype": "text/x-python",
   "name": "python",
   "nbconvert_exporter": "python",
   "pygments_lexer": "ipython3",
   "version": "3.11.2"
  }
 },
 "nbformat": 4,
 "nbformat_minor": 5
}
